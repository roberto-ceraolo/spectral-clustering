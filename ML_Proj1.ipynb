{
 "cells": [
  {
   "cell_type": "code",
   "execution_count": 6,
   "metadata": {},
   "outputs": [],
   "source": [
    "import numpy as np"
   ]
  },
  {
   "cell_type": "code",
   "execution_count": 25,
   "metadata": {},
   "outputs": [],
   "source": [
    "def load_data(sub_sample=False):\n",
    "    \"\"\"Load training and test data\"\"\"\n",
    "    path_dataset_train = \"train.csv\"\n",
    "    path_dataset_test = \"test.csv\"\n",
    "    data_train = np.genfromtxt(\n",
    "        path_dataset_train, delimiter=\",\", skip_header=1)\n",
    "    data_test = np.genfromtxt(\n",
    "        path_dataset_test, delimiter=\",\", skip_header=1)\n",
    "    \n",
    "    if sub_sample:\n",
    "        data_train = data_train[::50]\n",
    "    return data_train, data_test"
   ]
  },
  {
   "cell_type": "code",
   "execution_count": 26,
   "metadata": {},
   "outputs": [],
   "source": [
    "data_train, data_test = load_data(sub_sample=True)\n",
    "\n",
    "# data_train: The file starts with the ID column, then the label column (the y we have to predict), and finally 30 feature columns.\n",
    "# data_test: Everything as above, except the label is missing (nan values in the second column). "
   ]
  },
  {
   "cell_type": "code",
   "execution_count": null,
   "metadata": {},
   "outputs": [],
   "source": []
  },
  {
   "cell_type": "code",
   "execution_count": null,
   "metadata": {},
   "outputs": [],
   "source": []
  }
 ],
 "metadata": {
  "kernelspec": {
   "display_name": "Python 3",
   "language": "python",
   "name": "python3"
  },
  "language_info": {
   "codemirror_mode": {
    "name": "ipython",
    "version": 3
   },
   "file_extension": ".py",
   "mimetype": "text/x-python",
   "name": "python",
   "nbconvert_exporter": "python",
   "pygments_lexer": "ipython3",
   "version": "3.7.4"
  }
 },
 "nbformat": 4,
 "nbformat_minor": 4
}
